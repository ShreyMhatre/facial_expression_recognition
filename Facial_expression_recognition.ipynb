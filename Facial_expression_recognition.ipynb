{
  "nbformat": 4,
  "nbformat_minor": 0,
  "metadata": {
    "colab": {
      "provenance": [],
      "gpuType": "T4",
      "authorship_tag": "ABX9TyN3qN7VxDEvo2+zYn+BXC0U",
      "include_colab_link": true
    },
    "kernelspec": {
      "name": "python3",
      "display_name": "Python 3"
    },
    "language_info": {
      "name": "python"
    },
    "accelerator": "GPU"
  },
  "cells": [
    {
      "cell_type": "markdown",
      "metadata": {
        "id": "view-in-github",
        "colab_type": "text"
      },
      "source": [
        "<a href=\"https://colab.research.google.com/github/ShreyMhatre/facial_expression_recognition/blob/main/Facial_expression_recognition.ipynb\" target=\"_parent\"><img src=\"https://colab.research.google.com/assets/colab-badge.svg\" alt=\"Open In Colab\"/></a>"
      ]
    },
    {
      "cell_type": "markdown",
      "source": [
        "# Import data from Kaggle"
      ],
      "metadata": {
        "id": "UZ3jNTz6iqGT"
      }
    },
    {
      "cell_type": "code",
      "execution_count": 1,
      "metadata": {
        "colab": {
          "base_uri": "https://localhost:8080/"
        },
        "id": "bUaSG5xHdyvs",
        "outputId": "07856d06-abc5-4bc5-cb6b-8f559d8c0459"
      },
      "outputs": [
        {
          "output_type": "stream",
          "name": "stdout",
          "text": [
            "Path to dataset files: /kaggle/input/face-expression-recognition-dataset\n"
          ]
        }
      ],
      "source": [
        "import kagglehub\n",
        "\n",
        "# Download latest version\n",
        "path = kagglehub.dataset_download(\"jonathanoheix/face-expression-recognition-dataset\")\n",
        "\n",
        "print(\"Path to dataset files:\", path)\n",
        "\n",
        "# The next two commands are to overcome the problem of 2 different paths used by kaggle"
      ]
    },
    {
      "cell_type": "code",
      "source": [
        "!cp -r /root/.cache/kagglehub/datasets/jonathanoheix/face-expression-recognition-dataset/versions/1/images/images /content/face_expression_dataset\n"
      ],
      "metadata": {
        "id": "mEKe1SyOhL_Y",
        "colab": {
          "base_uri": "https://localhost:8080/"
        },
        "outputId": "807b58d7-532b-42b0-d230-dfa5b668dfc7"
      },
      "execution_count": 2,
      "outputs": [
        {
          "output_type": "stream",
          "name": "stdout",
          "text": [
            "cp: cannot stat '/root/.cache/kagglehub/datasets/jonathanoheix/face-expression-recognition-dataset/versions/1/images/images': No such file or directory\n"
          ]
        }
      ]
    },
    {
      "cell_type": "code",
      "source": [
        "!cp -r /kaggle/input/face-expression-recognition-dataset/images/images /content/face_expression_dataset"
      ],
      "metadata": {
        "id": "1OOYjCs4DFye"
      },
      "execution_count": 3,
      "outputs": []
    },
    {
      "cell_type": "code",
      "source": [
        "#rm -rf face_expression_dataset/"
      ],
      "metadata": {
        "id": "HHL9HkLdEfe3"
      },
      "execution_count": 4,
      "outputs": []
    },
    {
      "cell_type": "code",
      "source": [
        "ls face_expression_dataset/"
      ],
      "metadata": {
        "colab": {
          "base_uri": "https://localhost:8080/"
        },
        "id": "snrCrVl0jsS8",
        "outputId": "cabc67f8-547d-446d-ae3c-bbcfebdda06f"
      },
      "execution_count": 5,
      "outputs": [
        {
          "output_type": "stream",
          "name": "stdout",
          "text": [
            "\u001b[0m\u001b[01;34mtrain\u001b[0m/  \u001b[01;34mvalidation\u001b[0m/\n"
          ]
        }
      ]
    },
    {
      "cell_type": "code",
      "source": [
        "import os\n",
        "\n",
        "for dirpath, dirnames, filenames in os.walk(\"face_expression_dataset\"):\n",
        "  print(f\"There are {len(dirnames)} directories and {len(filenames)} images in '{dirpath}'.\")"
      ],
      "metadata": {
        "colab": {
          "base_uri": "https://localhost:8080/"
        },
        "id": "kOgU92EvjpDX",
        "outputId": "5e857b15-2815-4613-d8da-c788100f1a45"
      },
      "execution_count": 6,
      "outputs": [
        {
          "output_type": "stream",
          "name": "stdout",
          "text": [
            "There are 2 directories and 0 images in 'face_expression_dataset'.\n",
            "There are 7 directories and 0 images in 'face_expression_dataset/train'.\n",
            "There are 0 directories and 436 images in 'face_expression_dataset/train/disgust'.\n",
            "There are 0 directories and 3205 images in 'face_expression_dataset/train/surprise'.\n",
            "There are 0 directories and 4938 images in 'face_expression_dataset/train/sad'.\n",
            "There are 0 directories and 7164 images in 'face_expression_dataset/train/happy'.\n",
            "There are 0 directories and 4982 images in 'face_expression_dataset/train/neutral'.\n",
            "There are 0 directories and 3993 images in 'face_expression_dataset/train/angry'.\n",
            "There are 0 directories and 4103 images in 'face_expression_dataset/train/fear'.\n",
            "There are 7 directories and 0 images in 'face_expression_dataset/validation'.\n",
            "There are 0 directories and 111 images in 'face_expression_dataset/validation/disgust'.\n",
            "There are 0 directories and 797 images in 'face_expression_dataset/validation/surprise'.\n",
            "There are 0 directories and 1139 images in 'face_expression_dataset/validation/sad'.\n",
            "There are 0 directories and 1825 images in 'face_expression_dataset/validation/happy'.\n",
            "There are 0 directories and 1216 images in 'face_expression_dataset/validation/neutral'.\n",
            "There are 0 directories and 960 images in 'face_expression_dataset/validation/angry'.\n",
            "There are 0 directories and 1018 images in 'face_expression_dataset/validation/fear'.\n"
          ]
        }
      ]
    },
    {
      "cell_type": "markdown",
      "source": [
        "# Visualize Sample Data"
      ],
      "metadata": {
        "id": "EbYXrRKul5s9"
      }
    },
    {
      "cell_type": "markdown",
      "source": [
        "Setup training and validation directory paths"
      ],
      "metadata": {
        "id": "T_0d1yDwolP9"
      }
    },
    {
      "cell_type": "code",
      "source": [
        "train_dir = \"face_expression_dataset/train\"\n",
        "test_dir = \"face_expression_dataset/validation\""
      ],
      "metadata": {
        "id": "c8HBWDpvl9SA"
      },
      "execution_count": 7,
      "outputs": []
    },
    {
      "cell_type": "markdown",
      "source": [
        "Get class names from subdirectories."
      ],
      "metadata": {
        "id": "4WMg_tgHo038"
      }
    },
    {
      "cell_type": "code",
      "source": [
        "import pathlib\n",
        "import numpy as np\n",
        "data_dir = pathlib.Path(train_dir)\n",
        "class_names = np.array(sorted([item.name for item in data_dir.glob('*')]))\n",
        "print(class_names)"
      ],
      "metadata": {
        "colab": {
          "base_uri": "https://localhost:8080/"
        },
        "id": "3RsER9BTo5J5",
        "outputId": "5007c70d-77dc-4f2a-e04f-2d46783fc50b"
      },
      "execution_count": 8,
      "outputs": [
        {
          "output_type": "stream",
          "name": "stdout",
          "text": [
            "['angry' 'disgust' 'fear' 'happy' 'neutral' 'sad' 'surprise']\n"
          ]
        }
      ]
    },
    {
      "cell_type": "markdown",
      "source": [
        "Visualize an image from the training set."
      ],
      "metadata": {
        "id": "i2wlpI9JpDJ5"
      }
    },
    {
      "cell_type": "code",
      "source": [
        "import matplotlib.pyplot as plt\n",
        "import matplotlib.image as mpimg\n",
        "import random\n",
        "\n",
        "def view_random_image(target_dir, target_class):\n",
        "  target_folder = target_dir+\"/\"+target_class\n",
        "\n",
        "  random_image = random.sample(os.listdir(target_folder), 1)\n",
        "\n",
        "  img = mpimg.imread(target_folder + \"/\" + random_image[0])\n",
        "  plt.imshow(img)\n",
        "  plt.title(target_class)\n",
        "  plt.axis(\"off\");\n",
        "\n",
        "  print(f\"Image shape: {img.shape}\")\n",
        "\n",
        "  return img\n"
      ],
      "metadata": {
        "id": "iPzn5xH3pFqB"
      },
      "execution_count": 9,
      "outputs": []
    },
    {
      "cell_type": "code",
      "source": [
        "img = view_random_image(target_dir=train_dir,\n",
        "                        target_class=random.choice(class_names))"
      ],
      "metadata": {
        "colab": {
          "base_uri": "https://localhost:8080/",
          "height": 445
        },
        "id": "46DtqybTpypF",
        "outputId": "a65b26a7-f294-415f-fc87-4bd0f74c182d"
      },
      "execution_count": 10,
      "outputs": [
        {
          "output_type": "stream",
          "name": "stdout",
          "text": [
            "Image shape: (48, 48)\n"
          ]
        },
        {
          "output_type": "display_data",
          "data": {
            "text/plain": [
              "<Figure size 640x480 with 1 Axes>"
            ],
            "image/png": "[encoded data removed]"
          },
          "metadata": {}
        }
      ]
    },
    {
      "cell_type": "markdown",
      "source": [
        "Since the dataset in imbalanced, as we see there are only 436 images for disgust compared to 7164 for happy, we'll use augmentation to increase data for disgust. Setting up new paths to handle augmentation..."
      ],
      "metadata": {
        "id": "u9GLgXQWt9F8"
      }
    },
    {
      "cell_type": "markdown",
      "source": [
        "## Bulding an offline augmentation pipeline for imbalanced class"
      ],
      "metadata": {
        "id": "4-5kY1EY2oEg"
      }
    },
    {
      "cell_type": "code",
      "source": [
        "import os\n",
        "\n",
        "aug_dir = \"face_expression_dataset/train/augmented_disgust\"\n",
        "os.makedirs(aug_dir, exist_ok=True)\n"
      ],
      "metadata": {
        "id": "2aSN_cMY20x5"
      },
      "execution_count": 11,
      "outputs": []
    },
    {
      "cell_type": "code",
      "source": [
        "from tensorflow.keras.preprocessing.image import ImageDataGenerator, img_to_array, load_img, array_to_img\n",
        "import glob\n",
        "\n",
        "augmentor = ImageDataGenerator(\n",
        "    rotation_range=15,\n",
        "    width_shift_range=0.1,\n",
        "    height_shift_range=0.1,\n",
        "    zoom_range=0.1,\n",
        "    horizontal_flip=True,\n",
        "    brightness_range=[0.8, 1.2]\n",
        ")\n",
        "\n",
        "disgust_images = glob.glob(\"face_expression_dataset/train/disgust/*.jpg\")\n",
        "\n",
        "# How many augmented images per original?\n",
        "augment_times = 10\n",
        "\n",
        "count = 0\n",
        "for img_path in disgust_images:\n",
        "    img = load_img(img_path, color_mode=\"grayscale\", target_size=(48, 48))\n",
        "    x = img_to_array(img)\n",
        "    x = x.reshape((1,) + x.shape)\n",
        "\n",
        "    # Create 10 new images\n",
        "    i = 0\n",
        "    for batch in augmentor.flow(x, batch_size=1,\n",
        "                                 save_to_dir=aug_dir,\n",
        "                                 save_prefix='disgust',\n",
        "                                 save_format='jpg'):\n",
        "        i += 1\n",
        "        count += 1\n",
        "        if i >= augment_times:\n",
        "            break\n",
        "\n",
        "print(f\"Saved {count} augmented images to {aug_dir}\")\n"
      ],
      "metadata": {
        "colab": {
          "base_uri": "https://localhost:8080/"
        },
        "id": "0G8s-N293CUc",
        "outputId": "91b17720-545d-49fd-e4c9-cdf120f51e1c"
      },
      "execution_count": 12,
      "outputs": [
        {
          "output_type": "stream",
          "name": "stdout",
          "text": [
            "Saved 4360 augmented images to face_expression_dataset/train/augmented_disgust\n"
          ]
        }
      ]
    },
    {
      "cell_type": "code",
      "source": [
        "!mv face_expression_dataset/train/augmented_disgust/* \\\n",
        "   face_expression_dataset/train/disgust/\n"
      ],
      "metadata": {
        "id": "mnYyHJjl3Pda"
      },
      "execution_count": 13,
      "outputs": []
    },
    {
      "cell_type": "code",
      "source": [
        "rmdir face_expression_dataset/train/augmented_disgust\n"
      ],
      "metadata": {
        "id": "FJ2wl8q03ohA"
      },
      "execution_count": 14,
      "outputs": []
    },
    {
      "cell_type": "code",
      "source": [
        "import os\n",
        "\n",
        "for dirpath, dirnames, filenames in os.walk(\"face_expression_dataset\"):\n",
        "  print(f\"There are {len(dirnames)} directories and {len(filenames)} images in '{dirpath}'.\")"
      ],
      "metadata": {
        "colab": {
          "base_uri": "https://localhost:8080/"
        },
        "id": "oGIKgDmd3tUa",
        "outputId": "d83ec7e0-0ef1-4026-a8d0-5feecd870479"
      },
      "execution_count": 15,
      "outputs": [
        {
          "output_type": "stream",
          "name": "stdout",
          "text": [
            "There are 2 directories and 0 images in 'face_expression_dataset'.\n",
            "There are 7 directories and 0 images in 'face_expression_dataset/train'.\n",
            "There are 0 directories and 3979 images in 'face_expression_dataset/train/disgust'.\n",
            "There are 0 directories and 3205 images in 'face_expression_dataset/train/surprise'.\n",
            "There are 0 directories and 4938 images in 'face_expression_dataset/train/sad'.\n",
            "There are 0 directories and 7164 images in 'face_expression_dataset/train/happy'.\n",
            "There are 0 directories and 4982 images in 'face_expression_dataset/train/neutral'.\n",
            "There are 0 directories and 3993 images in 'face_expression_dataset/train/angry'.\n",
            "There are 0 directories and 4103 images in 'face_expression_dataset/train/fear'.\n",
            "There are 7 directories and 0 images in 'face_expression_dataset/validation'.\n",
            "There are 0 directories and 111 images in 'face_expression_dataset/validation/disgust'.\n",
            "There are 0 directories and 797 images in 'face_expression_dataset/validation/surprise'.\n",
            "There are 0 directories and 1139 images in 'face_expression_dataset/validation/sad'.\n",
            "There are 0 directories and 1825 images in 'face_expression_dataset/validation/happy'.\n",
            "There are 0 directories and 1216 images in 'face_expression_dataset/validation/neutral'.\n",
            "There are 0 directories and 960 images in 'face_expression_dataset/validation/angry'.\n",
            "There are 0 directories and 1018 images in 'face_expression_dataset/validation/fear'.\n"
          ]
        }
      ]
    },
    {
      "cell_type": "markdown",
      "source": [
        "Offline augmentation successful..."
      ],
      "metadata": {
        "id": "w4AmIZ6d30WD"
      }
    },
    {
      "cell_type": "markdown",
      "source": [
        "# Preprocessing data"
      ],
      "metadata": {
        "id": "iQfaAguj5e9Q"
      }
    },
    {
      "cell_type": "code",
      "source": [
        "from tensorflow.keras.preprocessing.image import ImageDataGenerator\n",
        "\n",
        "train_datagen = ImageDataGenerator(rescale=1/255.)\n",
        "test_datagen = ImageDataGenerator(rescale=1/255.)\n",
        "\n",
        "train_data = train_datagen.flow_from_directory(train_dir,\n",
        "                                               target_size=(48, 48),\n",
        "                                               color_mode='grayscale',\n",
        "                                               batch_size=64,\n",
        "                                               class_mode='categorical')\n",
        "\n",
        "test_data = train_datagen.flow_from_directory(test_dir,\n",
        "                                              target_size=(48, 48),\n",
        "                                              color_mode='grayscale',\n",
        "                                              batch_size=64,\n",
        "                                              class_mode='categorical')"
      ],
      "metadata": {
        "colab": {
          "base_uri": "https://localhost:8080/"
        },
        "id": "4AFzZ-qw3478",
        "outputId": "7b3e3895-f97e-4d8a-94f1-d7b2c9bb80e1"
      },
      "execution_count": 16,
      "outputs": [
        {
          "output_type": "stream",
          "name": "stdout",
          "text": [
            "Found 32364 images belonging to 7 classes.\n",
            "Found 7066 images belonging to 7 classes.\n"
          ]
        }
      ]
    },
    {
      "cell_type": "markdown",
      "source": [
        "# Calculating class_weight"
      ],
      "metadata": {
        "id": "HmKjQ_fC71xl"
      }
    },
    {
      "cell_type": "code",
      "source": [
        "import os\n",
        "\n",
        "class_names = sorted(os.listdir(train_dir))\n",
        "class_counts = {cls: len(os.listdir(os.path.join(train_dir, cls))) for cls in class_names}\n",
        "print(\"Samples per class:\", class_counts)\n"
      ],
      "metadata": {
        "colab": {
          "base_uri": "https://localhost:8080/"
        },
        "id": "SNCin9Rs77E9",
        "outputId": "76a5e29c-2030-4f6e-b79a-52b81ba17a53"
      },
      "execution_count": 17,
      "outputs": [
        {
          "output_type": "stream",
          "name": "stdout",
          "text": [
            "Samples per class: {'angry': 3993, 'disgust': 3979, 'fear': 4103, 'happy': 7164, 'neutral': 4982, 'sad': 4938, 'surprise': 3205}\n"
          ]
        }
      ]
    },
    {
      "cell_type": "code",
      "source": [
        "from sklearn.utils.class_weight import compute_class_weight\n",
        "import numpy as np\n",
        "\n",
        "y_train_labels = []\n",
        "class_indices = {cls: i for i, cls in enumerate(class_names)}\n",
        "\n",
        "for cls in class_names:\n",
        "    y_train_labels += [class_indices[cls]] * class_counts[cls]\n",
        "\n",
        "weights = compute_class_weight(\n",
        "    class_weight='balanced',\n",
        "    classes=np.unique(y_train_labels),\n",
        "    y=y_train_labels\n",
        ")\n",
        "\n",
        "class_weights = dict(enumerate(weights))\n",
        "print(\"Class weights:\", class_weights)\n"
      ],
      "metadata": {
        "colab": {
          "base_uri": "https://localhost:8080/"
        },
        "id": "9qnKb8YC8DWE",
        "outputId": "21acd268-6d39-4cb2-e458-e8e1f3ddbab6"
      },
      "execution_count": 18,
      "outputs": [
        {
          "output_type": "stream",
          "name": "stdout",
          "text": [
            "Class weights: {0: np.float64(1.1578834388751744), 1: np.float64(1.1619574193085125), 2: np.float64(1.1268409874307999), 3: np.float64(0.6453697056712132), 4: np.float64(0.9280266100820095), 5: np.float64(0.9362957819822948), 6: np.float64(1.4425674169823937)}\n"
          ]
        }
      ]
    },
    {
      "cell_type": "markdown",
      "source": [
        "# Loss curve"
      ],
      "metadata": {
        "id": "eVKxMZUC_Osr"
      }
    },
    {
      "cell_type": "code",
      "source": [
        "# Plot the validation and training data separately\n",
        "def plot_loss_curves(history):\n",
        "  \"\"\"\n",
        "  Returns separate loss curves for training and validation metrics.\n",
        "  \"\"\"\n",
        "  loss = history.history['loss']\n",
        "  val_loss = history.history['val_loss']\n",
        "\n",
        "  accuracy = history.history['accuracy']\n",
        "  val_accuracy = history.history['val_accuracy']\n",
        "\n",
        "  epochs = range(len(history.history['loss']))\n",
        "\n",
        "  # Plot loss\n",
        "  plt.plot(epochs, loss, label='training_loss')\n",
        "  plt.plot(epochs, val_loss, label='val_loss')\n",
        "  plt.title('Loss')\n",
        "  plt.xlabel('Epochs')\n",
        "  plt.legend()\n",
        "\n",
        "  # Plot accuracy\n",
        "  plt.figure()\n",
        "  plt.plot(epochs, accuracy, label='training_accuracy')\n",
        "  plt.plot(epochs, val_accuracy, label='val_accuracy')\n",
        "  plt.title('Accuracy')\n",
        "  plt.xlabel('Epochs')\n",
        "  plt.legend();"
      ],
      "metadata": {
        "id": "qOKIb0o0_Q5X"
      },
      "execution_count": 19,
      "outputs": []
    },
    {
      "cell_type": "markdown",
      "source": [
        "# Building Model\n"
      ],
      "metadata": {
        "id": "zi5KyAZ-9rDX"
      }
    },
    {
      "cell_type": "markdown",
      "source": [
        "## Model 1:- No class_weights"
      ],
      "metadata": {
        "id": "YA9AKSxcHRiz"
      }
    },
    {
      "cell_type": "code",
      "source": [
        "import tensorflow as tf\n",
        "from tensorflow.keras.models import Sequential\n",
        "from tensorflow.keras.layers import Conv2D, MaxPool2D, Flatten, Dense\n",
        "\n",
        "model_1 = Sequential([\n",
        "    Conv2D(10, 3, activation='relu', input_shape=(48, 48, 1)),\n",
        "    Conv2D(10, 3, activation='relu'),\n",
        "    MaxPool2D(),\n",
        "    Conv2D(10, 3, activation='relu'),\n",
        "    Conv2D(10, 3, activation='relu'),\n",
        "    MaxPool2D(),\n",
        "    Flatten(),\n",
        "    Dense(7, activation='softmax'),\n",
        "])\n",
        "\n",
        "model_1.compile(\n",
        "    loss='categorical_crossentropy',\n",
        "    optimizer=tf.keras.optimizers.Adam(),\n",
        "    metrics=['accuracy']\n",
        ")\n",
        "\n",
        "history_1 = model_1.fit(\n",
        "    train_data,\n",
        "    epochs=10,\n",
        "    steps_per_epoch=len(train_data),\n",
        "    validation_data=test_data,\n",
        "    validation_steps=len(test_data)\n",
        "    )"
      ],
      "metadata": {
        "colab": {
          "base_uri": "https://localhost:8080/"
        },
        "id": "OakbsAvM9tXg",
        "outputId": "d5af943d-e79b-4b47-f5b8-3d359da52107"
      },
      "execution_count": 20,
      "outputs": [
        {
          "output_type": "stream",
          "name": "stderr",
          "text": [
            "/usr/local/lib/python3.11/dist-packages/keras/src/layers/convolutional/base_conv.py:107: UserWarning: Do not pass an `input_shape`/`input_dim` argument to a layer. When using Sequential models, prefer using an `Input(shape)` object as the first layer in the model instead.\n",
            "  super().__init__(activity_regularizer=activity_regularizer, **kwargs)\n",
            "/usr/local/lib/python3.11/dist-packages/keras/src/trainers/data_adapters/py_dataset_adapter.py:121: UserWarning: Your `PyDataset` class should call `super().__init__(**kwargs)` in its constructor. `**kwargs` can include `workers`, `use_multiprocessing`, `max_queue_size`. Do not pass these arguments to `fit()`, as they will be ignored.\n",
            "  self._warn_if_super_not_called()\n"
          ]
        },
        {
          "output_type": "stream",
          "name": "stdout",
          "text": [
            "Epoch 1/10\n",
            "\u001b[1m506/506\u001b[0m \u001b[32m━━━━━━━━━━━━━━━━━━━━\u001b[0m\u001b[37m\u001b[0m \u001b[1m0s\u001b[0m 154ms/step - accuracy: 0.2438 - loss: 1.8672"
          ]
        },
        {
          "output_type": "stream",
          "name": "stderr",
          "text": [
            "/usr/local/lib/python3.11/dist-packages/keras/src/trainers/data_adapters/py_dataset_adapter.py:121: UserWarning: Your `PyDataset` class should call `super().__init__(**kwargs)` in its constructor. `**kwargs` can include `workers`, `use_multiprocessing`, `max_queue_size`. Do not pass these arguments to `fit()`, as they will be ignored.\n",
            "  self._warn_if_super_not_called()\n"
          ]
        },
        {
          "output_type": "stream",
          "name": "stdout",
          "text": [
            "\b\b\b\b\b\b\b\b\b\b\b\b\b\b\b\b\b\b\b\b\b\b\b\b\b\b\b\b\b\b\b\b\b\b\b\b\b\b\b\b\b\b\b\b\b\b\b\b\b\b\b\b\b\b\b\b\b\b\b\b\b\b\b\b\b\b\b\b\b\b\b\b\b\b\b\b\r\u001b[1m506/506\u001b[0m \u001b[32m━━━━━━━━━━━━━━━━━━━━\u001b[0m\u001b[37m\u001b[0m \u001b[1m86s\u001b[0m 165ms/step - accuracy: 0.2439 - loss: 1.8670 - val_accuracy: 0.3358 - val_loss: 1.7340\n",
            "Epoch 2/10\n",
            "\u001b[1m506/506\u001b[0m \u001b[32m━━━━━━━━━━━━━━━━━━━━\u001b[0m\u001b[37m\u001b[0m \u001b[1m85s\u001b[0m 168ms/step - accuracy: 0.3837 - loss: 1.6396 - val_accuracy: 0.4019 - val_loss: 1.5874\n",
            "Epoch 3/10\n",
            "\u001b[1m506/506\u001b[0m \u001b[32m━━━━━━━━━━━━━━━━━━━━\u001b[0m\u001b[37m\u001b[0m \u001b[1m80s\u001b[0m 159ms/step - accuracy: 0.4220 - loss: 1.5545 - val_accuracy: 0.4107 - val_loss: 1.5637\n",
            "Epoch 4/10\n",
            "\u001b[1m506/506\u001b[0m \u001b[32m━━━━━━━━━━━━━━━━━━━━\u001b[0m\u001b[37m\u001b[0m \u001b[1m80s\u001b[0m 158ms/step - accuracy: 0.4529 - loss: 1.4792 - val_accuracy: 0.4414 - val_loss: 1.4974\n",
            "Epoch 5/10\n",
            "\u001b[1m506/506\u001b[0m \u001b[32m━━━━━━━━━━━━━━━━━━━━\u001b[0m\u001b[37m\u001b[0m \u001b[1m81s\u001b[0m 156ms/step - accuracy: 0.4815 - loss: 1.3994 - val_accuracy: 0.4498 - val_loss: 1.4706\n",
            "Epoch 6/10\n",
            "\u001b[1m506/506\u001b[0m \u001b[32m━━━━━━━━━━━━━━━━━━━━\u001b[0m\u001b[37m\u001b[0m \u001b[1m84s\u001b[0m 166ms/step - accuracy: 0.5040 - loss: 1.3567 - val_accuracy: 0.4421 - val_loss: 1.5080\n",
            "Epoch 7/10\n",
            "\u001b[1m506/506\u001b[0m \u001b[32m━━━━━━━━━━━━━━━━━━━━\u001b[0m\u001b[37m\u001b[0m \u001b[1m82s\u001b[0m 162ms/step - accuracy: 0.5051 - loss: 1.3278 - val_accuracy: 0.4352 - val_loss: 1.5036\n",
            "Epoch 8/10\n",
            "\u001b[1m506/506\u001b[0m \u001b[32m━━━━━━━━━━━━━━━━━━━━\u001b[0m\u001b[37m\u001b[0m \u001b[1m82s\u001b[0m 162ms/step - accuracy: 0.5206 - loss: 1.2967 - val_accuracy: 0.4594 - val_loss: 1.4431\n",
            "Epoch 9/10\n",
            "\u001b[1m506/506\u001b[0m \u001b[32m━━━━━━━━━━━━━━━━━━━━\u001b[0m\u001b[37m\u001b[0m \u001b[1m83s\u001b[0m 165ms/step - accuracy: 0.5241 - loss: 1.2767 - val_accuracy: 0.4459 - val_loss: 1.4610\n",
            "Epoch 10/10\n",
            "\u001b[1m506/506\u001b[0m \u001b[32m━━━━━━━━━━━━━━━━━━━━\u001b[0m\u001b[37m\u001b[0m \u001b[1m80s\u001b[0m 159ms/step - accuracy: 0.5358 - loss: 1.2616 - val_accuracy: 0.4608 - val_loss: 1.4345\n"
          ]
        }
      ]
    },
    {
      "cell_type": "code",
      "source": [
        "plot_loss_curves(history_1)"
      ],
      "metadata": {
        "colab": {
          "base_uri": "https://localhost:8080/",
          "height": 927
        },
        "id": "P1dxgi5qGd_o",
        "outputId": "7ef216cc-6901-4790-8288-c1f9cbf5b295"
      },
      "execution_count": 21,
      "outputs": [
        {
          "output_type": "display_data",
          "data": {
            "text/plain": [
              "<Figure size 640x480 with 1 Axes>"
            ],
            "image/png": "[encoded data removed]"
          },
          "metadata": {}
        },
        {
          "output_type": "display_data",
          "data": {
            "text/plain": [
              "<Figure size 640x480 with 1 Axes>"
            ],
            "image/png": "[encoded data removed]"
          },
          "metadata": {}
        }
      ]
    },
    {
      "cell_type": "code",
      "source": [
        "model_1.summary()"
      ],
      "metadata": {
        "colab": {
          "base_uri": "https://localhost:8080/",
          "height": 401
        },
        "id": "5nlm-o-VGoBn",
        "outputId": "4b56731f-b0cf-4e8c-aeb6-5aa475d40e59"
      },
      "execution_count": 22,
      "outputs": [
        {
          "output_type": "display_data",
          "data": {
            "text/plain": [
              "\u001b[1mModel: \"sequential\"\u001b[0m\n"
            ],
            "text/html": [
              "<pre style=\"white-space:pre;overflow-x:auto;line-height:normal;font-family:Menlo,'DejaVu Sans Mono',consolas,'Courier New',monospace\"><span style=\"font-weight: bold\">Model: \"sequential\"</span>\n",
              "</pre>\n"
            ]
          },
          "metadata": {}
        },
        {
          "output_type": "display_data",
          "data": {
            "text/plain": [
              "┏━━━━━━━━━━━━━━━━━━━━━━━━━━━━━━━━━┳━━━━━━━━━━━━━━━━━━━━━━━━┳━━━━━━━━━━━━━━━┓\n",
              "┃\u001b[1m \u001b[0m\u001b[1mLayer (type)                   \u001b[0m\u001b[1m \u001b[0m┃\u001b[1m \u001b[0m\u001b[1mOutput Shape          \u001b[0m\u001b[1m \u001b[0m┃\u001b[1m \u001b[0m\u001b[1m      Param #\u001b[0m\u001b[1m \u001b[0m┃\n",
              "┡━━━━━━━━━━━━━━━━━━━━━━━━━━━━━━━━━╇━━━━━━━━━━━━━━━━━━━━━━━━╇━━━━━━━━━━━━━━━┩\n",
              "│ conv2d (\u001b[38;5;33mConv2D\u001b[0m)                 │ (\u001b[38;5;45mNone\u001b[0m, \u001b[38;5;34m46\u001b[0m, \u001b[38;5;34m46\u001b[0m, \u001b[38;5;34m10\u001b[0m)     │           \u001b[38;5;34m100\u001b[0m │\n",
              "├─────────────────────────────────┼────────────────────────┼───────────────┤\n",
              "│ conv2d_1 (\u001b[38;5;33mConv2D\u001b[0m)               │ (\u001b[38;5;45mNone\u001b[0m, \u001b[38;5;34m44\u001b[0m, \u001b[38;5;34m44\u001b[0m, \u001b[38;5;34m10\u001b[0m)     │           \u001b[38;5;34m910\u001b[0m │\n",
              "├─────────────────────────────────┼────────────────────────┼───────────────┤\n",
              "│ max_pooling2d (\u001b[38;5;33mMaxPooling2D\u001b[0m)    │ (\u001b[38;5;45mNone\u001b[0m, \u001b[38;5;34m22\u001b[0m, \u001b[38;5;34m22\u001b[0m, \u001b[38;5;34m10\u001b[0m)     │             \u001b[38;5;34m0\u001b[0m │\n",
              "├─────────────────────────────────┼────────────────────────┼───────────────┤\n",
              "│ conv2d_2 (\u001b[38;5;33mConv2D\u001b[0m)               │ (\u001b[38;5;45mNone\u001b[0m, \u001b[38;5;34m20\u001b[0m, \u001b[38;5;34m20\u001b[0m, \u001b[38;5;34m10\u001b[0m)     │           \u001b[38;5;34m910\u001b[0m │\n",
              "├─────────────────────────────────┼────────────────────────┼───────────────┤\n",
              "│ conv2d_3 (\u001b[38;5;33mConv2D\u001b[0m)               │ (\u001b[38;5;45mNone\u001b[0m, \u001b[38;5;34m18\u001b[0m, \u001b[38;5;34m18\u001b[0m, \u001b[38;5;34m10\u001b[0m)     │           \u001b[38;5;34m910\u001b[0m │\n",
              "├─────────────────────────────────┼────────────────────────┼───────────────┤\n",
              "│ max_pooling2d_1 (\u001b[38;5;33mMaxPooling2D\u001b[0m)  │ (\u001b[38;5;45mNone\u001b[0m, \u001b[38;5;34m9\u001b[0m, \u001b[38;5;34m9\u001b[0m, \u001b[38;5;34m10\u001b[0m)       │             \u001b[38;5;34m0\u001b[0m │\n",
              "├─────────────────────────────────┼────────────────────────┼───────────────┤\n",
              "│ flatten (\u001b[38;5;33mFlatten\u001b[0m)               │ (\u001b[38;5;45mNone\u001b[0m, \u001b[38;5;34m810\u001b[0m)            │             \u001b[38;5;34m0\u001b[0m │\n",
              "├─────────────────────────────────┼────────────────────────┼───────────────┤\n",
              "│ dense (\u001b[38;5;33mDense\u001b[0m)                   │ (\u001b[38;5;45mNone\u001b[0m, \u001b[38;5;34m7\u001b[0m)              │         \u001b[38;5;34m5,677\u001b[0m │\n",
              "└─────────────────────────────────┴────────────────────────┴───────────────┘\n"
            ],
            "text/html": [
              "<pre style=\"white-space:pre;overflow-x:auto;line-height:normal;font-family:Menlo,'DejaVu Sans Mono',consolas,'Courier New',monospace\">┏━━━━━━━━━━━━━━━━━━━━━━━━━━━━━━━━━┳━━━━━━━━━━━━━━━━━━━━━━━━┳━━━━━━━━━━━━━━━┓\n",
              "┃<span style=\"font-weight: bold\"> Layer (type)                    </span>┃<span style=\"font-weight: bold\"> Output Shape           </span>┃<span style=\"font-weight: bold\">       Param # </span>┃\n",
              "┡━━━━━━━━━━━━━━━━━━━━━━━━━━━━━━━━━╇━━━━━━━━━━━━━━━━━━━━━━━━╇━━━━━━━━━━━━━━━┩\n",
              "│ conv2d (<span style=\"color: #0087ff; text-decoration-color: #0087ff\">Conv2D</span>)                 │ (<span style=\"color: #00d7ff; text-decoration-color: #00d7ff\">None</span>, <span style=\"color: #00af00; text-decoration-color: #00af00\">46</span>, <span style=\"color: #00af00; text-decoration-color: #00af00\">46</span>, <span style=\"color: #00af00; text-decoration-color: #00af00\">10</span>)     │           <span style=\"color: #00af00; text-decoration-color: #00af00\">100</span> │\n",
              "├─────────────────────────────────┼────────────────────────┼───────────────┤\n",
              "│ conv2d_1 (<span style=\"color: #0087ff; text-decoration-color: #0087ff\">Conv2D</span>)               │ (<span style=\"color: #00d7ff; text-decoration-color: #00d7ff\">None</span>, <span style=\"color: #00af00; text-decoration-color: #00af00\">44</span>, <span style=\"color: #00af00; text-decoration-color: #00af00\">44</span>, <span style=\"color: #00af00; text-decoration-color: #00af00\">10</span>)     │           <span style=\"color: #00af00; text-decoration-color: #00af00\">910</span> │\n",
              "├─────────────────────────────────┼────────────────────────┼───────────────┤\n",
              "│ max_pooling2d (<span style=\"color: #0087ff; text-decoration-color: #0087ff\">MaxPooling2D</span>)    │ (<span style=\"color: #00d7ff; text-decoration-color: #00d7ff\">None</span>, <span style=\"color: #00af00; text-decoration-color: #00af00\">22</span>, <span style=\"color: #00af00; text-decoration-color: #00af00\">22</span>, <span style=\"color: #00af00; text-decoration-color: #00af00\">10</span>)     │             <span style=\"color: #00af00; text-decoration-color: #00af00\">0</span> │\n",
              "├─────────────────────────────────┼────────────────────────┼───────────────┤\n",
              "│ conv2d_2 (<span style=\"color: #0087ff; text-decoration-color: #0087ff\">Conv2D</span>)               │ (<span style=\"color: #00d7ff; text-decoration-color: #00d7ff\">None</span>, <span style=\"color: #00af00; text-decoration-color: #00af00\">20</span>, <span style=\"color: #00af00; text-decoration-color: #00af00\">20</span>, <span style=\"color: #00af00; text-decoration-color: #00af00\">10</span>)     │           <span style=\"color: #00af00; text-decoration-color: #00af00\">910</span> │\n",
              "├─────────────────────────────────┼────────────────────────┼───────────────┤\n",
              "│ conv2d_3 (<span style=\"color: #0087ff; text-decoration-color: #0087ff\">Conv2D</span>)               │ (<span style=\"color: #00d7ff; text-decoration-color: #00d7ff\">None</span>, <span style=\"color: #00af00; text-decoration-color: #00af00\">18</span>, <span style=\"color: #00af00; text-decoration-color: #00af00\">18</span>, <span style=\"color: #00af00; text-decoration-color: #00af00\">10</span>)     │           <span style=\"color: #00af00; text-decoration-color: #00af00\">910</span> │\n",
              "├─────────────────────────────────┼────────────────────────┼───────────────┤\n",
              "│ max_pooling2d_1 (<span style=\"color: #0087ff; text-decoration-color: #0087ff\">MaxPooling2D</span>)  │ (<span style=\"color: #00d7ff; text-decoration-color: #00d7ff\">None</span>, <span style=\"color: #00af00; text-decoration-color: #00af00\">9</span>, <span style=\"color: #00af00; text-decoration-color: #00af00\">9</span>, <span style=\"color: #00af00; text-decoration-color: #00af00\">10</span>)       │             <span style=\"color: #00af00; text-decoration-color: #00af00\">0</span> │\n",
              "├─────────────────────────────────┼────────────────────────┼───────────────┤\n",
              "│ flatten (<span style=\"color: #0087ff; text-decoration-color: #0087ff\">Flatten</span>)               │ (<span style=\"color: #00d7ff; text-decoration-color: #00d7ff\">None</span>, <span style=\"color: #00af00; text-decoration-color: #00af00\">810</span>)            │             <span style=\"color: #00af00; text-decoration-color: #00af00\">0</span> │\n",
              "├─────────────────────────────────┼────────────────────────┼───────────────┤\n",
              "│ dense (<span style=\"color: #0087ff; text-decoration-color: #0087ff\">Dense</span>)                   │ (<span style=\"color: #00d7ff; text-decoration-color: #00d7ff\">None</span>, <span style=\"color: #00af00; text-decoration-color: #00af00\">7</span>)              │         <span style=\"color: #00af00; text-decoration-color: #00af00\">5,677</span> │\n",
              "└─────────────────────────────────┴────────────────────────┴───────────────┘\n",
              "</pre>\n"
            ]
          },
          "metadata": {}
        },
        {
          "output_type": "display_data",
          "data": {
            "text/plain": [
              "\u001b[1m Total params: \u001b[0m\u001b[38;5;34m25,523\u001b[0m (99.70 KB)\n"
            ],
            "text/html": [
              "<pre style=\"white-space:pre;overflow-x:auto;line-height:normal;font-family:Menlo,'DejaVu Sans Mono',consolas,'Courier New',monospace\"><span style=\"font-weight: bold\"> Total params: </span><span style=\"color: #00af00; text-decoration-color: #00af00\">25,523</span> (99.70 KB)\n",
              "</pre>\n"
            ]
          },
          "metadata": {}
        },
        {
          "output_type": "display_data",
          "data": {
            "text/plain": [
              "\u001b[1m Trainable params: \u001b[0m\u001b[38;5;34m8,507\u001b[0m (33.23 KB)\n"
            ],
            "text/html": [
              "<pre style=\"white-space:pre;overflow-x:auto;line-height:normal;font-family:Menlo,'DejaVu Sans Mono',consolas,'Courier New',monospace\"><span style=\"font-weight: bold\"> Trainable params: </span><span style=\"color: #00af00; text-decoration-color: #00af00\">8,507</span> (33.23 KB)\n",
              "</pre>\n"
            ]
          },
          "metadata": {}
        },
        {
          "output_type": "display_data",
          "data": {
            "text/plain": [
              "\u001b[1m Non-trainable params: \u001b[0m\u001b[38;5;34m0\u001b[0m (0.00 B)\n"
            ],
            "text/html": [
              "<pre style=\"white-space:pre;overflow-x:auto;line-height:normal;font-family:Menlo,'DejaVu Sans Mono',consolas,'Courier New',monospace\"><span style=\"font-weight: bold\"> Non-trainable params: </span><span style=\"color: #00af00; text-decoration-color: #00af00\">0</span> (0.00 B)\n",
              "</pre>\n"
            ]
          },
          "metadata": {}
        },
        {
          "output_type": "display_data",
          "data": {
            "text/plain": [
              "\u001b[1m Optimizer params: \u001b[0m\u001b[38;5;34m17,016\u001b[0m (66.47 KB)\n"
            ],
            "text/html": [
              "<pre style=\"white-space:pre;overflow-x:auto;line-height:normal;font-family:Menlo,'DejaVu Sans Mono',consolas,'Courier New',monospace\"><span style=\"font-weight: bold\"> Optimizer params: </span><span style=\"color: #00af00; text-decoration-color: #00af00\">17,016</span> (66.47 KB)\n",
              "</pre>\n"
            ]
          },
          "metadata": {}
        }
      ]
    },
    {
      "cell_type": "markdown",
      "source": [
        "## Model 2: With class_weights"
      ],
      "metadata": {
        "id": "uY9hDI-kIM8Y"
      }
    },
    {
      "cell_type": "code",
      "source": [
        "import tensorflow as tf\n",
        "from tensorflow.keras.models import Sequential\n",
        "from tensorflow.keras.layers import Conv2D, MaxPool2D, Flatten, Dense\n",
        "\n",
        "model_2 = Sequential([\n",
        "    Conv2D(10, 3, activation='relu', input_shape=(48, 48, 1)),\n",
        "    Conv2D(10, 3, activation='relu'),\n",
        "    MaxPool2D(),\n",
        "    Conv2D(10, 3, activation='relu'),\n",
        "    Conv2D(10, 3, activation='relu'),\n",
        "    MaxPool2D(),\n",
        "    Flatten(),\n",
        "    Dense(7, activation='softmax'),\n",
        "])\n",
        "\n",
        "model_2.compile(\n",
        "    loss='categorical_crossentropy',\n",
        "    optimizer=tf.keras.optimizers.Adam(),\n",
        "    metrics=['accuracy']\n",
        ")\n",
        "\n",
        "history_2 = model_2.fit(\n",
        "    train_data,\n",
        "    epochs=10,\n",
        "    steps_per_epoch=len(train_data),\n",
        "    validation_data=test_data,\n",
        "    validation_steps=len(test_data),\n",
        "    class_weight=class_weights\n",
        "    )"
      ],
      "metadata": {
        "colab": {
          "base_uri": "https://localhost:8080/"
        },
        "id": "H0F09ifYINt-",
        "outputId": "7c1d2371-157e-4df5-b15e-1e0e39f134e6"
      },
      "execution_count": null,
      "outputs": [
        {
          "output_type": "stream",
          "name": "stdout",
          "text": [
            "Epoch 1/10\n"
          ]
        },
        {
          "output_type": "stream",
          "name": "stderr",
          "text": [
            "/usr/local/lib/python3.11/dist-packages/keras/src/layers/convolutional/base_conv.py:107: UserWarning: Do not pass an `input_shape`/`input_dim` argument to a layer. When using Sequential models, prefer using an `Input(shape)` object as the first layer in the model instead.\n",
            "  super().__init__(activity_regularizer=activity_regularizer, **kwargs)\n"
          ]
        },
        {
          "output_type": "stream",
          "name": "stdout",
          "text": [
            "\u001b[1m506/506\u001b[0m \u001b[32m━━━━━━━━━━━━━━━━━━━━\u001b[0m\u001b[37m\u001b[0m \u001b[1m84s\u001b[0m 161ms/step - accuracy: 0.2250 - loss: 1.8539 - val_accuracy: 0.3480 - val_loss: 1.7030\n",
            "Epoch 2/10\n",
            "\u001b[1m506/506\u001b[0m \u001b[32m━━━━━━━━━━━━━━━━━━━━\u001b[0m\u001b[37m\u001b[0m \u001b[1m82s\u001b[0m 160ms/step - accuracy: 0.3875 - loss: 1.6209 - val_accuracy: 0.3900 - val_loss: 1.6010\n",
            "Epoch 3/10\n",
            "\u001b[1m506/506\u001b[0m \u001b[32m━━━━━━━━━━━━━━━━━━━━\u001b[0m\u001b[37m\u001b[0m \u001b[1m80s\u001b[0m 159ms/step - accuracy: 0.4302 - loss: 1.5129 - val_accuracy: 0.4295 - val_loss: 1.5094\n",
            "Epoch 4/10\n",
            "\u001b[1m261/506\u001b[0m \u001b[32m━━━━━━━━━━\u001b[0m\u001b[37m━━━━━━━━━━\u001b[0m \u001b[1m36s\u001b[0m 151ms/step - accuracy: 0.4716 - loss: 1.4286"
          ]
        }
      ]
    },
    {
      "cell_type": "code",
      "source": [
        "plot_loss_curves(history_2)"
      ],
      "metadata": {
        "id": "KM9_wRlbIWyl"
      },
      "execution_count": null,
      "outputs": []
    },
    {
      "cell_type": "code",
      "source": [
        "model_2.summary()"
      ],
      "metadata": {
        "id": "Y0EXizeZIY8r"
      },
      "execution_count": null,
      "outputs": []
    },
    {
      "cell_type": "markdown",
      "source": [
        "## Model 3"
      ],
      "metadata": {
        "id": "1CRFIF_kJO2p"
      }
    },
    {
      "cell_type": "code",
      "source": [
        "import tensorflow as tf\n",
        "from tensorflow.keras.models import Sequential\n",
        "from tensorflow.keras.losses import CategoricalCrossentropy\n",
        "from tensorflow.keras.callbacks import EarlyStopping, ReduceLROnPlateau\n",
        "from tensorflow.keras.layers import Conv2D, MaxPooling2D, GlobalAveragePooling2D, BatchNormalization, Dropout, Flatten, Dense\n",
        "\n",
        "model_3 = Sequential([\n",
        "    Conv2D(32, (3, 3), activation='relu', padding='same', input_shape=(48, 48, 1)),\n",
        "    BatchNormalization(),\n",
        "    MaxPooling2D(pool_size=(2, 2)),\n",
        "    Dropout(0.4),\n",
        "\n",
        "    Conv2D(64, (5, 5), activation='relu', padding='same'),\n",
        "    BatchNormalization(),\n",
        "    MaxPooling2D(pool_size=(2, 2)),\n",
        "    Dropout(0.4),\n",
        "\n",
        "    Conv2D(128, (3, 3), activation='relu', padding='same'),\n",
        "    BatchNormalization(),\n",
        "    MaxPooling2D(pool_size=(2, 2)),\n",
        "    Dropout(0.4),\n",
        "\n",
        "    Flatten(),\n",
        "\n",
        "    Dense(128, activation='relu'),\n",
        "    Dropout(0.4),\n",
        "    Dense(64, activation='relu'),\n",
        "    Dense(7, activation='softmax')\n",
        "])\n",
        "\n",
        "model_3.compile(\n",
        "    loss=CategoricalCrossentropy(label_smoothing=0.1),\n",
        "    optimizer=tf.keras.optimizers.Adam(learning_rate=0.001),\n",
        "    metrics=['accuracy']\n",
        ")\n"
      ],
      "metadata": {
        "id": "RYEj2yAYJRMp"
      },
      "execution_count": null,
      "outputs": []
    },
    {
      "cell_type": "code",
      "source": [
        "from keras.callbacks import ModelCheckpoint,EarlyStopping,ReduceLROnPlateau\n",
        "\n",
        "callbacks = [\n",
        "    EarlyStopping(monitor='val_loss',patience=2,restore_best_weights=True, verbose=1),\n",
        "    #ReduceLROnPlateau(monitor='val_loss',factor=0.1,patience=2,verbose=1,min_delta=0.0001)\n",
        "]\n",
        "\n",
        "checkpoint = ModelCheckpoint(\"./model.h5\", monitor='val_accuracy',verbose=1,save_best_only=True,mode='max')\n",
        "\n",
        "history_3 = model_3.fit(\n",
        "    train_data,\n",
        "    epochs=100,\n",
        "    validation_data=test_data,\n",
        "    class_weight=class_weights,\n",
        "    callbacks=callbacks\n",
        "    )"
      ],
      "metadata": {
        "id": "_SOiilHPRKGB"
      },
      "execution_count": null,
      "outputs": []
    },
    {
      "cell_type": "code",
      "source": [
        "plot_loss_curves(history_3)"
      ],
      "metadata": {
        "id": "AJN_8GklJ1_s"
      },
      "execution_count": null,
      "outputs": []
    },
    {
      "cell_type": "code",
      "source": [
        "model_3.evaluate(test_data)"
      ],
      "metadata": {
        "id": "Y9mzoQW2MBr0"
      },
      "execution_count": null,
      "outputs": []
    }
  ]
}